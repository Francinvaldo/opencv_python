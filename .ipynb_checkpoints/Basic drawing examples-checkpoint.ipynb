{
 "cells": [
  {
   "cell_type": "markdown",
   "metadata": {},
   "source": [
    "# Basic drawing examples"
   ]
  },
  {
   "cell_type": "markdown",
   "metadata": {},
   "source": [
    "##  Drawing a line\n",
    "  void line(Mat& img, Point pt1, Point pt2, const Scalar& color, int thickness=1, int lineType=8, int shift=0)\n",
    "   Parameters:\n",
    "  *  img – Image.\n",
    "  * pt1 – First point of the line segment.\n",
    "  * pt2 – Second point of the line segment.\n",
    "  * color – Line color.\n",
    "  * thickness – Line thickness.\n",
    "  * lineType – Type of the line:\n",
    "  * 8 (or omitted) - 8-connected line.\n",
    "  * 4 - 4-connected line.\n",
    "  * CV_AA - antialiased line.\n",
    "  * shift – Number of fractional bits in the point coordinates.\n"
   ]
  },
  {
   "cell_type": "code",
   "execution_count": 42,
   "metadata": {
    "collapsed": true
   },
   "outputs": [],
   "source": [
    "import numpy as np \n",
    "%config IPCompleter.greedy=True\n",
    "import cv2"
   ]
  },
  {
   "cell_type": "code",
   "execution_count": 43,
   "metadata": {},
   "outputs": [
    {
     "data": {
      "text/plain": [
       "-1"
      ]
     },
     "execution_count": 43,
     "metadata": {},
     "output_type": "execute_result"
    }
   ],
   "source": [
    "#create a black image \n",
    "\n",
    "img  = np.zeros((512,512,3) , np.uint8)\n",
    "\n",
    "#draw a line\n",
    "\n",
    "cv2.line(img,(0,0),(511,511),(255,0,0),5)\n",
    "cv2.imshow(\"Image\",img)\n",
    "cv2.waitKey(0)\n"
   ]
  },
  {
   "cell_type": "markdown",
   "metadata": {},
   "source": [
    "## Drawing a Circle"
   ]
  },
  {
   "cell_type": "markdown",
   "metadata": {},
   "source": [
    "Drawing a Circle\n",
    "* void circle(Mat& img, Point center, int radius, const Scalar& color, int thickness=1, int lineType=8, int shift=0)\n",
    "* Parameters:\n",
    "* img – Image where the circle is drawn.\n",
    "* center – Center of the circle.\n",
    "* radius – Radius of the circle.\n",
    "* color – Circle color.\n",
    "* thickness – Thickness of the circle outline, if positive. Negative thickness means that a filled circle is to be   drawn.\n",
    "* lineType – Type of the circle boundary. See the line() description.\n",
    "* shift – Number of fractional bits in the coordinates of the center and in the radius value."
   ]
  },
  {
   "cell_type": "code",
   "execution_count": 44,
   "metadata": {
    "collapsed": true
   },
   "outputs": [],
   "source": [
    "%config IPCompleter.greedy=True\n",
    "import numpy as np\n",
    "import cv2 "
   ]
  },
  {
   "cell_type": "code",
   "execution_count": 45,
   "metadata": {},
   "outputs": [
    {
     "data": {
      "text/plain": [
       "-1"
      ]
     },
     "execution_count": 45,
     "metadata": {},
     "output_type": "execute_result"
    }
   ],
   "source": [
    "image = np.zeros((512,512) ,np.uint8)\n",
    "\n",
    "#print(np.shape(image))\n",
    "\n",
    "cv2.circle(image , (512//2,512//2) , 200 , (255,0,0) ,  3,5)\n",
    "\n",
    "cv2.imshow(\"janela\",image)\n",
    "\n",
    "cv2.waitKey(0)\n",
    "\n"
   ]
  },
  {
   "cell_type": "markdown",
   "metadata": {},
   "source": [
    "## Drawing an Ellipse"
   ]
  },
  {
   "cell_type": "markdown",
   "metadata": {},
   "source": [
    " - void ellipse(Mat& img, Point center, Size axes, double angle, double startAngle, double endAngle, const Scalar& color, int thickness=1, int lineType=8, int shift=0)\n",
    "* Parameters:\n",
    "* img – Image.\n",
    "* center – Center of the ellipse.\n",
    "* axes – Length of the ellipse axes.\n",
    "* angle – Ellipse rotation angle in degrees.\n",
    "* startAngle – Starting angle of the elliptic arc in degrees.\n",
    "* endAngle – Ending angle of the elliptic arc in degrees.\n",
    "* box – Alternative ellipse representation via RotatedRect or CvBox2D. This means that the function draws an ellipse inscribed in the rotated rectangle.\n",
    "* color – Ellipse color.\n",
    "* thickness – Thickness of the ellipse arc outline, if positive. Otherwise, this indicates that a filled ellipse sector is to be drawn.\n",
    "* lineType – Type of the ellipse boundary. See the line() description.\n",
    "* shift – Number of fractional bits in the coordinates of the center and values of axes.\n",
    "* The functions ellipse with less parameters draw an ellipse outline, a filled ellipse, an elliptic arc, or a filled ellipse sector. A piecewise-linear curve is used to approximate the elliptic arc boundary.\n",
    "\n",
    "* If you use the first variant of the function and want to draw the whole ellipse, not an arc, pass startAngle=0 and endAngle=360."
   ]
  },
  {
   "cell_type": "code",
   "execution_count": null,
   "metadata": {
    "collapsed": true
   },
   "outputs": [],
   "source": [
    "# cv2.ellipse(img,(256,256),(100,50),0,0,180,255,-1)"
   ]
  },
  {
   "cell_type": "code",
   "execution_count": 60,
   "metadata": {},
   "outputs": [
    {
     "data": {
      "text/plain": [
       "-1"
      ]
     },
     "execution_count": 60,
     "metadata": {},
     "output_type": "execute_result"
    }
   ],
   "source": [
    "cv2.ellipse(image , (254,256) , (100,50), 0,0 , 180 , 255, 1 ,2 ) # 0 to 255\n",
    "cv2.imshow(\"Janela\",image)\n",
    "cv2.waitKey(0)"
   ]
  },
  {
   "cell_type": "markdown",
   "metadata": {},
   "source": [
    "#  Adding Text to Images:\n",
    "\n",
    "- o put texts in images, you need specify following things.\n",
    "\n",
    "- Text data that you want to write\n",
    "- Position coordinates of where you want put it (i.e. bottom-left corner where data starts).\n",
    "- Font type (Check cv2.putText() docs for supported fonts)\n",
    "- Font Scale (specifies the size of font)\n",
    "- regular things like color, thickness, lineType etc. For better look, lineType = cv2.LINE_AA is recommended.\n",
    "- We will write OpenCV on our image in white color.\n",
    "\n"
   ]
  },
  {
   "cell_type": "code",
   "execution_count": 61,
   "metadata": {
    "collapsed": true
   },
   "outputs": [],
   "source": [
    "import numpy as np\n",
    "import cv2 \n",
    "import matplotlib.pylab as plt"
   ]
  },
  {
   "cell_type": "code",
   "execution_count": 62,
   "metadata": {},
   "outputs": [
    {
     "ename": "TypeError",
     "evalue": "an integer is required (got type NoneType)",
     "output_type": "error",
     "traceback": [
      "\u001b[0;31m---------------------------------------------------------------------------\u001b[0m",
      "\u001b[0;31mTypeError\u001b[0m                                 Traceback (most recent call last)",
      "\u001b[0;32m<ipython-input-62-bac44157a55e>\u001b[0m in \u001b[0;36m<module>\u001b[0;34m()\u001b[0m\n\u001b[1;32m      1\u001b[0m \u001b[0;34m\u001b[0m\u001b[0m\n\u001b[1;32m      2\u001b[0m \u001b[0mimg\u001b[0m  \u001b[0;34m=\u001b[0m \u001b[0mcv2\u001b[0m\u001b[0;34m.\u001b[0m\u001b[0mimread\u001b[0m\u001b[0;34m(\u001b[0m\u001b[0;34m'/media/skynet/Dados wise/git_projetos/opencv_python/imgs/image.jpg'\u001b[0m\u001b[0;34m,\u001b[0m\u001b[0;36m0\u001b[0m\u001b[0;34m)\u001b[0m\u001b[0;34m\u001b[0m\u001b[0m\n\u001b[0;32m----> 3\u001b[0;31m \u001b[0mcv2\u001b[0m\u001b[0;34m.\u001b[0m\u001b[0mnamedWindow\u001b[0m\u001b[0;34m(\u001b[0m\u001b[0;34m\"Windows\"\u001b[0m\u001b[0;34m,\u001b[0m\u001b[0mimg\u001b[0m\u001b[0;34m)\u001b[0m\u001b[0;34m\u001b[0m\u001b[0m\n\u001b[0m\u001b[1;32m      4\u001b[0m \u001b[0mcv2\u001b[0m\u001b[0;34m.\u001b[0m\u001b[0mimshow\u001b[0m\u001b[0;34m(\u001b[0m\u001b[0;34m)\u001b[0m\u001b[0;34m\u001b[0m\u001b[0m\n\u001b[1;32m      5\u001b[0m \u001b[0mcv2\u001b[0m\u001b[0;34m.\u001b[0m\u001b[0mwaitKey\u001b[0m\u001b[0;34m(\u001b[0m\u001b[0;36m0\u001b[0m\u001b[0;34m)\u001b[0m\u001b[0;34m\u001b[0m\u001b[0m\n",
      "\u001b[0;31mTypeError\u001b[0m: an integer is required (got type NoneType)"
     ]
    }
   ],
   "source": [
    "\n",
    "img  = cv2.imread('/media/skynet/Dados wise/git_projetos/opencv_python/imgs/image.jpg',1)\n",
    "cv2.namedWindow(\"Windows\",img)\n",
    "cv2.imshow()\n",
    "cv2.waitKey(0)"
   ]
  },
  {
   "cell_type": "code",
   "execution_count": null,
   "metadata": {
    "collapsed": true
   },
   "outputs": [],
   "source": []
  }
 ],
 "metadata": {
  "kernelspec": {
   "display_name": "Python 3",
   "language": "python",
   "name": "python3"
  },
  "language_info": {
   "codemirror_mode": {
    "name": "ipython",
    "version": 3
   },
   "file_extension": ".py",
   "mimetype": "text/x-python",
   "name": "python",
   "nbconvert_exporter": "python",
   "pygments_lexer": "ipython3",
   "version": "3.5.2"
  }
 },
 "nbformat": 4,
 "nbformat_minor": 2
}
