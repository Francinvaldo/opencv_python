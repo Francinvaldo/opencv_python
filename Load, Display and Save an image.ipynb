{
 "cells": [
  {
   "cell_type": "markdown",
   "metadata": {},
   "source": [
    "#  Load, Display and Save an image"
   ]
  },
  {
   "cell_type": "markdown",
   "metadata": {},
   "source": [
    "Getting Started with Images\n",
    " - Goals\n",
    "   * Here, you will learn how to read an image, how to display it and how to save it back\n",
    "   * You will learn these functions : cv2.imread(), cv2.imshow() , cv2.imwrite()   \n",
    "   * Optionally, you will learn how to display images with Matplotlib\n"
   ]
  },
  {
   "cell_type": "markdown",
   "metadata": {},
   "source": [
    "### Using OpenCV\n",
    "### Read an image"
   ]
  },
  {
   "cell_type": "markdown",
   "metadata": {},
   "source": [
    "Use the function cv2.imread() to read an image. The image should be in the working directory or a full path of image should be given.\n",
    "\n",
    "Second argument is a flag which specifies the way image should be read.\n",
    "\n",
    " * cv2.IMREAD_COLOR : Loads a color image. Any transparency of image will be neglected. It is the default flag.\n",
    " * cv2.IMREAD_GRAYSCALE : Loads image in grayscale mode\n",
    " * cv2.IMREAD_UNCHANGED : Loads image as such including alpha channel\n"
   ]
  },
  {
   "cell_type": "code",
   "execution_count": 12,
   "metadata": {},
   "outputs": [],
   "source": [
    "#from __future__ import division\n",
    "import cv2 \n",
    "import numpy as np\n",
    "\n",
    "\n",
    "# load an color image in grayscale\n",
    "img = cv2.imread('/media/skynet/Dados wise/git_projetos/opencv_python/imgs/Lena_Meyer_Good_News.jpg',1)\n",
    "cv2.imshow('window',img)\n",
    "cv2.waitKey(0)\n",
    "cv2.destroyAllWindows()"
   ]
  },
  {
   "cell_type": "code",
   "execution_count": null,
   "metadata": {
    "collapsed": true
   },
   "outputs": [],
   "source": []
  }
 ],
 "metadata": {
  "kernelspec": {
   "display_name": "Python 3",
   "language": "python",
   "name": "python3"
  },
  "language_info": {
   "codemirror_mode": {
    "name": "ipython",
    "version": 3
   },
   "file_extension": ".py",
   "mimetype": "text/x-python",
   "name": "python",
   "nbconvert_exporter": "python",
   "pygments_lexer": "ipython3",
   "version": "3.5.2"
  }
 },
 "nbformat": 4,
 "nbformat_minor": 2
}
