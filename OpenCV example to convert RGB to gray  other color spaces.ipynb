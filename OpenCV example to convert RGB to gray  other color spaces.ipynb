{
 "cells": [
  {
   "cell_type": "code",
   "execution_count": 3,
   "metadata": {},
   "outputs": [],
   "source": [
    "#%config IPCompleter.greedy=True\n",
    "%config IPcompleter.greedy=True\n",
    "import numpy as np \n",
    "import cv2 "
   ]
  },
  {
   "cell_type": "markdown",
   "metadata": {},
   "source": [
    "# Opencv python  - RGB to gray "
   ]
  },
  {
   "cell_type": "code",
   "execution_count": 8,
   "metadata": {},
   "outputs": [
    {
     "data": {
      "text/plain": [
       "-1"
      ]
     },
     "execution_count": 8,
     "metadata": {},
     "output_type": "execute_result"
    }
   ],
   "source": [
    "opencv = cv2.imread('/media/skynet/Dados wise/git_projetos/opencv_python/imgs/Lena_Meyer_Good_News.jpg',1) # color \n",
    "#convert to gray \n",
    "passed_to_gray  = cv2.cvtColor(opencv , cv2.COLOR_BGR2RGB)\n",
    "cv2.imshow(\"original\",opencv)\n",
    "cv2.imshow(\"gray\",passed_to_gray)\n",
    "cv2.waitKey(0)\n"
   ]
  },
  {
   "cell_type": "code",
   "execution_count": 4,
   "metadata": {
    "collapsed": true
   },
   "outputs": [],
   "source": [
    "#%config IPCompleter.greedy=True\n",
    "%config IPcompleter.greedy=True\n",
    "import numpy as np \n",
    "import cv2 "
   ]
  },
  {
   "cell_type": "code",
   "execution_count": 5,
   "metadata": {},
   "outputs": [],
   "source": [
    "img = cv2.imread('/media/skynet/Dados wise/git_projetos/opencv_python/imgs/Lena_Meyer_Good_News.jpg',1) # color \n",
    "#convert to gray \n",
    "\n",
    "import cv2\n",
    "import numpy as np\n",
    "img = cv2.imread('/media/skynet/Dados wise/git_projetos/opencv_python/imgs/Lena_Meyer_Good_News.jpg',1)\n",
    " \n",
    "\n"
   ]
  },
  {
   "cell_type": "code",
   "execution_count": null,
   "metadata": {
    "collapsed": true
   },
   "outputs": [],
   "source": []
  }
 ],
 "metadata": {
  "kernelspec": {
   "display_name": "Python 3",
   "language": "python",
   "name": "python3"
  },
  "language_info": {
   "codemirror_mode": {
    "name": "ipython",
    "version": 3
   },
   "file_extension": ".py",
   "mimetype": "text/x-python",
   "name": "python",
   "nbconvert_exporter": "python",
   "pygments_lexer": "ipython3",
   "version": "3.5.2"
  }
 },
 "nbformat": 4,
 "nbformat_minor": 2
}
